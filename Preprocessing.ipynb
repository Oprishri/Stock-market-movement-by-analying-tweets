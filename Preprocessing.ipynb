{
 "cells": [
  {
   "cell_type": "code",
   "execution_count": 1,
   "metadata": {},
   "outputs": [],
   "source": [
    "import pandas as pd\n",
    "from nltk.corpus import stopwords \n",
    "import re\n",
    "from nltk.stem.snowball import SnowballStemmer\n",
    "from nltk.stem import WordNetLemmatizer   \n",
    "from nltk import word_tokenize\n",
    "from spellchecker import SpellChecker\n",
    "from textblob import TextBlob\n",
    "import matplotlib.pyplot as plt"
   ]
  },
  {
   "cell_type": "markdown",
   "metadata": {},
   "source": [
    "# Preprocessing\n"
   ]
  },
  {
   "cell_type": "code",
   "execution_count": null,
   "metadata": {},
   "outputs": [],
   "source": [
    "def stopword():\n",
    "     stop=stopwords.words(\"english\")\n",
    "     twitter[\"text\"]=twitter[\"text\"].apply(lambda x:' '.join([word for word in x.split() if word not in (stop)]))\n",
    "     return twitter[\"text\"]"
   ]
  },
  {
   "cell_type": "code",
   "execution_count": 5,
   "metadata": {},
   "outputs": [],
   "source": [
    "z= stopword() "
   ]
  },
  {
   "cell_type": "code",
   "execution_count": 6,
   "metadata": {},
   "outputs": [],
   "source": [
    "def r_exp(z):\n",
    "    twitter['text']=twitter['text'].apply(lambda x:re.sub(r\"http\\S+\",'', x))\n",
    "    twitter['text']=twitter['text'].apply(lambda x:re.sub(r\"[a-z0-9\\.\\-+_]+@[a-z0-9\\.\\-+_]+\\.[a-z]+\",'',x))\n",
    "    twitter['text']=twitter['text'].apply(lambda x:re.sub('@[^\\s]+','',x))\n",
    "    twitter['text']=twitter['text'].apply(lambda x:re.sub('#[^\\s]+','',x))\n",
    "    twitter['text']=twitter['text'].apply(lambda x:re.sub('<[^\\s]+','',x))\n",
    "    twitter['text']=twitter['text'].apply(lambda x:re.sub('\\$\\w*','',x))\n",
    "    return twitter['text']"
   ]
  },
  {
   "cell_type": "code",
   "execution_count": 7,
   "metadata": {},
   "outputs": [],
   "source": [
    "y=r_exp(z)"
   ]
  },
  {
   "cell_type": "code",
   "execution_count": 8,
   "metadata": {},
   "outputs": [],
   "source": [
    "punct_num = '''!()-àÂ[]{};:\\n,<>./?@#%^\"&\\*_~0123456789=\\x92\\x92\\x96\\x85+|'\"''' #for punctuation\n",
    "def punctuation(x):\n",
    "    no_punct = \"\"\n",
    "    for char in x:\n",
    "            if char not in punct_num :\n",
    "                no_punct = no_punct + char  \n",
    "    return(no_punct)\n",
    "twitter['text']=twitter['text'].apply(lambda x:punctuation(x))"
   ]
  },
  {
   "cell_type": "markdown",
   "metadata": {},
   "source": [
    "#  stemmer and lemmatizer"
   ]
  },
  {
   "cell_type": "code",
   "execution_count": 9,
   "metadata": {},
   "outputs": [],
   "source": [
    "def s_and_l(x):\n",
    "    stemmer = SnowballStemmer('english')\n",
    "    lemmatizer = WordNetLemmatizer()\n",
    "\n",
    "    l = ' '.join([lemmatizer.lemmatize(w) for w in word_tokenize(x)])\n",
    "    z = ' '.join([stemmer.stem(w) for w in word_tokenize(l)])\n",
    "    return z\n",
    "\n",
    "twitter['text']=twitter['text'].apply(lambda x:s_and_l(x))"
   ]
  },
  {
   "cell_type": "markdown",
   "metadata": {},
   "source": [
    "# spellchecker"
   ]
  },
  {
   "cell_type": "code",
   "execution_count": 10,
   "metadata": {},
   "outputs": [],
   "source": [
    "from spellchecker import SpellChecker\n",
    "spell = SpellChecker()\n",
    "def spellcheck(x):\n",
    "        correct={}\n",
    "        wrong=spell.unknown(x.split())\n",
    "        for t in wrong:\n",
    "            correct[t]=spell.correction(t)\n",
    "        for t in correct.keys():\n",
    "            x= re.sub(t,correct[t],x,flags=re.IGNORECASE)\n",
    "        return(x)\n",
    "twitter['text']=twitter['text'].apply(lambda x:spellcheck(x))\n",
    "df=pd.DataFrame(twitter['text'])\n",
    "df.columns=[\"text\"]"
   ]
  },
  {
   "cell_type": "markdown",
   "metadata": {},
   "source": [
    "# alphanumeric character"
   ]
  },
  {
   "cell_type": "code",
   "execution_count": 11,
   "metadata": {},
   "outputs": [],
   "source": [
    "def alnum():\n",
    "    for i in range(1000):\n",
    "        if (i.isalnum() for i in df['text'])==False:\n",
    "           df.drop(df.index[i])\n",
    "    return df"
   ]
  },
  {
   "cell_type": "markdown",
   "metadata": {},
   "source": [
    "# Polarity"
   ]
  },
  {
   "cell_type": "code",
   "execution_count": 12,
   "metadata": {},
   "outputs": [
    {
     "data": {
      "image/png": "[encoded data removed]",
      "text/plain": [
       "<Figure size 432x288 with 1 Axes>"
      ]
     },
     "metadata": {},
     "output_type": "display_data"
    }
   ],
   "source": [
    "from textblob import TextBlob\n",
    "import matplotlib.pyplot as plt\n",
    "def polarity():\n",
    "    pole=[]\n",
    "    t=[]\n",
    "    for line in df[\"text\"]:\n",
    "        temp=TextBlob(line).sentiment.polarity\n",
    "        t.append(temp)\n",
    "        if(temp>0):\n",
    "            pole.append('positive')\n",
    "        elif(temp<0):\n",
    "            pole.append('negative')\n",
    "        else:\n",
    "            pole.append('neutral')\n",
    "    return(pole,t)\n",
    "pole,temp=polarity()\n",
    "df['Sentiment']=pole\n",
    "df['Sentiment_score']=temp\n",
    "plt.hist(pole,histtype='bar',align='mid')\n",
    "df['Sentiment']=pd.Categorical(df['Sentiment']).codes\n",
    "df['Sentiment']=pd.Categorical(df['Sentiment']).rename_categories([-1,0,1])"
   ]
  },
  {
   "cell_type": "code",
   "execution_count": null,
   "metadata": {},
   "outputs": [],
   "source": []
  }
 ],
 "metadata": {
  "kernelspec": {
   "display_name": "Python 3",
   "language": "python",
   "name": "python3"
  },
  "language_info": {
   "codemirror_mode": {
    "name": "ipython",
    "version": 3
   },
   "file_extension": ".py",
   "mimetype": "text/x-python",
   "name": "python",
   "nbconvert_exporter": "python",
   "pygments_lexer": "ipython3",
   "version": "3.6.5"
  }
 },
 "nbformat": 4,
 "nbformat_minor": 2
}
